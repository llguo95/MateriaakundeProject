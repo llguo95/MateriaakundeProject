{
 "cells": [
  {
   "cell_type": "code",
   "execution_count": 4,
   "metadata": {},
   "outputs": [],
   "source": [
    "import pickle\n",
    "import pandas as pd\n",
    "import numpy as np\n",
    "import matplotlib.pyplot as plt\n",
    "from mpl_toolkits.mplot3d import Axes3D\n",
    "from sklearn.preprocessing import PolynomialFeatures\n",
    "from sklearn.linear_model import LinearRegression\n",
    "from sklearn.pipeline import make_pipeline\n",
    "from sklearn.model_selection import train_test_split\n",
    "from sklearn.metrics import mean_squared_error, r2_score\n",
    "from matplotlib import cm\n",
    "from sklearn.preprocessing import StandardScaler\n",
    "from sklearn.preprocessing import MinMaxScaler\n",
    "\n",
    "#Import dataset\n",
    "df = pd.read_pickle('DoE_results_7d_50k.pkl')\n",
    "points_df = df['points']\n",
    "\n",
    "#Eliminate all NaN output values \n",
    "points_df_1 = points_df[(points_df['sigma_crit'] > 0) & (points_df['energy'] >= 0)]\n",
    "sigma_crit_1 = points_df_1['sigma_crit']\n",
    "energy_1 = points_df_1['energy']\n",
    "\n",
    "#Find the quartiles to eliminate outliers\n",
    "q1_s = np.percentile(sigma_crit_1,25.0)\n",
    "q3_s = np.percentile(sigma_crit_1, 75.0)\n",
    "q1_e = np.percentile(energy_1,25.0)\n",
    "q3_e = np.percentile(energy_1, 75.0)\n",
    "\n",
    "#Define the highest point which is not considered an outlier\n",
    "high_s = q3_s + 1.5*(q3_s-q1_s)\n",
    "high_e = q3_e + 1.5*(q3_e-q1_e)\n",
    "\n",
    "#Eliminate outliers\n",
    "points_df_2 = points_df[(points_df['sigma_crit'] < high_s) & (points_df['energy'] < high_e)]\n",
    "#Convert the columns to arrays\n",
    "RA   = points_df_2[['ratio_area']].to_numpy()\n",
    "RIxx = points_df_2[['ratio_Ixx']].to_numpy()\n",
    "RIyy = points_df_2[['ratio_Iyy']].to_numpy()\n",
    "RJ   = points_df_2[['ratio_J']].to_numpy()\n",
    "RP   = points_df_2[['ratio_pitch']].to_numpy()\n",
    "RT   = points_df_2[['ratio_top_diameter']].to_numpy()\n",
    "RS   = points_df_2[['ratio_shear_modulus']].to_numpy()\n",
    "\n",
    "S  = points_df_2[['sigma_crit']].to_numpy()\n",
    "E  = points_df_2[['energy']].to_numpy()"
   ]
  },
  {
   "cell_type": "code",
   "execution_count": 5,
   "metadata": {},
   "outputs": [],
   "source": [
    "input1 = RA   \n",
    "input2 = RIxx \n",
    "input3 = RIyy \n",
    "input4 = RJ   \n",
    "input5 = RP   \n",
    "input6 = RT   \n",
    "input7 = RS  \n",
    "output = S\n",
    "\n",
    "X_data = np.array([input1,input2,input3,input4,input5,input6,input7]).reshape(7,-1).T\n",
    "Y_data = np.array([output]).reshape(-1,1)\n",
    "xx1, xx2 = np.meshgrid(input1,input2, sparse=True)\n",
    "yy1 = output\n",
    "\n",
    "\n",
    "train_size= 0.75\n",
    "X_Train,X_Test,Y_Train,Y_Test=train_test_split(X_data, Y_data, train_size=train_size)"
   ]
  },
  {
   "cell_type": "code",
   "execution_count": 6,
   "metadata": {},
   "outputs": [
    {
     "name": "stdout",
     "output_type": "stream",
     "text": [
      "MSE for degree 1 = 379.80582202280124\n",
      "R2 score for degree 1 = 0.5611399999196192\n",
      "MSE for degree 2 = 153.58898633622906\n",
      "R2 score for degree 2 = 0.822530201888752\n",
      "MSE for degree 3 = 100.59760988604846\n",
      "R2 score for degree 3 = 0.8837609522477858\n",
      "MSE for degree 4 = 90.99881974348956\n",
      "R2 score for degree 4 = 0.8948522120402228\n",
      "MSE for degree 5 = 86.58467773172498\n",
      "R2 score for degree 5 = 0.8999526877341459\n",
      "MSE for degree 6 = 85.5716394997706\n",
      "R2 score for degree 6 = 0.9011232384018244\n",
      "MSE for degree 7 = 73.08201317695597\n",
      "R2 score for degree 7 = 0.9155548165694315\n",
      "MSE for degree 8 = 82.54170441067089\n",
      "R2 score for degree 8 = 0.9046242835052509\n"
     ]
    }
   ],
   "source": [
    "for degree in range(1,9):\n",
    "    model = make_pipeline(PolynomialFeatures(degree),LinearRegression())\n",
    "    model.fit(X_Train, Y_Train)\n",
    "    y_data_pred = model.predict(X_data)\n",
    "\n",
    "    mse_value = mean_squared_error(yy1, y_data_pred)\n",
    "    r2_value  = r2_score(yy1, y_data_pred)\n",
    "    print('MSE for degree', degree,'=', mse_value)\n",
    "    print('R2 score for degree', degree,'=', r2_value)"
   ]
  },
  {
   "cell_type": "code",
   "execution_count": null,
   "metadata": {},
   "outputs": [],
   "source": [
    "set_cm = cm.cool\n",
    "\n",
    "fig1 = plt.figure(figsize=plt.figaspect(2.0))\n",
    "#\n",
    "# Subplot 1 (top) of Figure 1: ground truth\n",
    "ax1 = fig1.add_subplot(2, 1, 1, projection='3d')\n",
    "#\n",
    "# Don't forget that for a Surface plot we need the data\n",
    "# coming out of meshgrid not in the format of X_data (!)\n",
    "#\n",
    "yy1 = np.reshape(yy1, np.shape(xx1))\n",
    "surf = ax1.plot_surface(xx1, xx2, yy1,cmap=set_cm,\n",
    "                        alpha=0.8,\n",
    "                        linewidth=0, antialiased=False)\n",
    "\n",
    "# Create axis labels and title:\n",
    "ax1.set_xlabel('$Ratio Diameter$')\n",
    "ax1.set_ylabel('$Ratio Top Diameter')\n",
    "ax1.set_zlabel('Sigma Critical')\n",
    "ax1.set_title(\"Ground truth\")\n",
    "\n",
    "# Subplot 2 (bottom) of Figure 1\n",
    "ax2 = fig1.add_subplot(2, 1, 2, projection='3d')\n",
    "#\n",
    "yy1_data_pred = np.reshape(y_data_pred,np.shape(xx1))\n",
    "\n",
    "surf = ax2.scatter(xx1, xx2, yy1_data_pred,label=\"LR prediction\")\n",
    "# Create axis labels and title:\n",
    "ax2.set_xlabel('$Ratio Diameter$')\n",
    "ax2.set_ylabel('$Ratio Top Diameter$')\n",
    "ax2.set_zlabel('$Sigma Critical$')\n",
    "ax2.set_title(\"Linear Regression Prediction\")\n",
    "ax2.scatter(X_Train[:,0], X_Train[:,1], Y_Train,\n",
    "            marker='o', color='red',\n",
    "            label=\"training points\")\n",
    "ax2.legend(loc='lower left')"
   ]
  },
  {
   "cell_type": "code",
   "execution_count": null,
   "metadata": {},
   "outputs": [],
   "source": [
    "print(yy1.shape)\n",
    "\n",
    "mse_value = mean_squared_error(yy1, y_data_pred)\n",
    "r2_value  = r2_score(yy1, y_data_pred)\n",
    "print('MSE', mse_value)\n",
    "print('R2 score', r2_value)"
   ]
  },
  {
   "cell_type": "code",
   "execution_count": null,
   "metadata": {},
   "outputs": [],
   "source": []
  }
 ],
 "metadata": {
  "kernelspec": {
   "display_name": "Python 3",
   "language": "python",
   "name": "python3"
  },
  "language_info": {
   "codemirror_mode": {
    "name": "ipython",
    "version": 3
   },
   "file_extension": ".py",
   "mimetype": "text/x-python",
   "name": "python",
   "nbconvert_exporter": "python",
   "pygments_lexer": "ipython3",
   "version": "3.6.10"
  }
 },
 "nbformat": 4,
 "nbformat_minor": 4
}
