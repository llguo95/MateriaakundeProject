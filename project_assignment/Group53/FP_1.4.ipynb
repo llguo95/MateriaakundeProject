{
 "cells": [
  {
   "cell_type": "code",
   "execution_count": 1,
   "metadata": {
    "colab": {},
    "colab_type": "code",
    "id": "QZUN4mG4-S7l"
   },
   "outputs": [],
   "source": [
    "import pickle\n",
    "\n",
    "infile = open('DoE_results_3d_1k.pkl', 'rb')\n",
    "new_dict = pickle.load(infile)\n",
    "infile.close()\n"
   ]
  },
  {
   "cell_type": "code",
   "execution_count": 2,
   "metadata": {
    "colab": {
     "base_uri": "https://localhost:8080/",
     "height": 404
    },
    "colab_type": "code",
    "id": "7pzl9_iKBrde",
    "outputId": "ff106343-edaf-42f4-d79f-767b56f5f32f"
   },
   "outputs": [
    {
     "data": {
      "text/html": [
       "<div>\n",
       "<style scoped>\n",
       "    .dataframe tbody tr th:only-of-type {\n",
       "        vertical-align: middle;\n",
       "    }\n",
       "\n",
       "    .dataframe tbody tr th {\n",
       "        vertical-align: top;\n",
       "    }\n",
       "\n",
       "    .dataframe thead th {\n",
       "        text-align: right;\n",
       "    }\n",
       "</style>\n",
       "<table border=\"1\" class=\"dataframe\">\n",
       "  <thead>\n",
       "    <tr style=\"text-align: right;\">\n",
       "      <th></th>\n",
       "      <th>ratio_d</th>\n",
       "      <th>ratio_pitch</th>\n",
       "      <th>ratio_top_diameter</th>\n",
       "      <th>coilable</th>\n",
       "      <th>sigma_crit</th>\n",
       "      <th>energy</th>\n",
       "    </tr>\n",
       "  </thead>\n",
       "  <tbody>\n",
       "    <tr>\n",
       "      <th>0</th>\n",
       "      <td>0.004000</td>\n",
       "      <td>0.250000</td>\n",
       "      <td>0.000000</td>\n",
       "      <td>coilable</td>\n",
       "      <td>0.000494</td>\n",
       "      <td>0.000280</td>\n",
       "    </tr>\n",
       "    <tr>\n",
       "      <th>4</th>\n",
       "      <td>0.029875</td>\n",
       "      <td>0.718750</td>\n",
       "      <td>0.500000</td>\n",
       "      <td>coilable</td>\n",
       "      <td>2.887962</td>\n",
       "      <td>NaN</td>\n",
       "    </tr>\n",
       "    <tr>\n",
       "      <th>7</th>\n",
       "      <td>0.012625</td>\n",
       "      <td>1.031250</td>\n",
       "      <td>0.300000</td>\n",
       "      <td>coilable</td>\n",
       "      <td>0.068975</td>\n",
       "      <td>NaN</td>\n",
       "    </tr>\n",
       "    <tr>\n",
       "      <th>16</th>\n",
       "      <td>0.010469</td>\n",
       "      <td>0.835938</td>\n",
       "      <td>0.375000</td>\n",
       "      <td>coilable</td>\n",
       "      <td>0.036098</td>\n",
       "      <td>0.022457</td>\n",
       "    </tr>\n",
       "    <tr>\n",
       "      <th>23</th>\n",
       "      <td>0.019094</td>\n",
       "      <td>1.304688</td>\n",
       "      <td>0.075000</td>\n",
       "      <td>coilable</td>\n",
       "      <td>0.277121</td>\n",
       "      <td>NaN</td>\n",
       "    </tr>\n",
       "    <tr>\n",
       "      <th>...</th>\n",
       "      <td>...</td>\n",
       "      <td>...</td>\n",
       "      <td>...</td>\n",
       "      <td>...</td>\n",
       "      <td>...</td>\n",
       "      <td>...</td>\n",
       "    </tr>\n",
       "    <tr>\n",
       "      <th>981</th>\n",
       "      <td>0.071989</td>\n",
       "      <td>0.976318</td>\n",
       "      <td>0.477344</td>\n",
       "      <td>coilable</td>\n",
       "      <td>93.408673</td>\n",
       "      <td>NaN</td>\n",
       "    </tr>\n",
       "    <tr>\n",
       "      <th>984</th>\n",
       "      <td>0.015927</td>\n",
       "      <td>0.429443</td>\n",
       "      <td>0.227344</td>\n",
       "      <td>coilable</td>\n",
       "      <td>0.157614</td>\n",
       "      <td>0.093563</td>\n",
       "    </tr>\n",
       "    <tr>\n",
       "      <th>991</th>\n",
       "      <td>0.007302</td>\n",
       "      <td>0.898193</td>\n",
       "      <td>0.127344</td>\n",
       "      <td>coilable</td>\n",
       "      <td>0.006273</td>\n",
       "      <td>NaN</td>\n",
       "    </tr>\n",
       "    <tr>\n",
       "      <th>992</th>\n",
       "      <td>0.006224</td>\n",
       "      <td>0.605225</td>\n",
       "      <td>0.364844</td>\n",
       "      <td>coilable</td>\n",
       "      <td>0.004411</td>\n",
       "      <td>0.002707</td>\n",
       "    </tr>\n",
       "    <tr>\n",
       "      <th>996</th>\n",
       "      <td>0.032099</td>\n",
       "      <td>0.448975</td>\n",
       "      <td>0.664844</td>\n",
       "      <td>coilable</td>\n",
       "      <td>4.968690</td>\n",
       "      <td>2.928651</td>\n",
       "    </tr>\n",
       "  </tbody>\n",
       "</table>\n",
       "<p>214 rows × 6 columns</p>\n",
       "</div>"
      ],
      "text/plain": [
       "      ratio_d  ratio_pitch  ratio_top_diameter  coilable  sigma_crit    energy\n",
       "0    0.004000     0.250000            0.000000  coilable    0.000494  0.000280\n",
       "4    0.029875     0.718750            0.500000  coilable    2.887962       NaN\n",
       "7    0.012625     1.031250            0.300000  coilable    0.068975       NaN\n",
       "16   0.010469     0.835938            0.375000  coilable    0.036098  0.022457\n",
       "23   0.019094     1.304688            0.075000  coilable    0.277121       NaN\n",
       "..        ...          ...                 ...       ...         ...       ...\n",
       "981  0.071989     0.976318            0.477344  coilable   93.408673       NaN\n",
       "984  0.015927     0.429443            0.227344  coilable    0.157614  0.093563\n",
       "991  0.007302     0.898193            0.127344  coilable    0.006273       NaN\n",
       "992  0.006224     0.605225            0.364844  coilable    0.004411  0.002707\n",
       "996  0.032099     0.448975            0.664844  coilable    4.968690  2.928651\n",
       "\n",
       "[214 rows x 6 columns]"
      ]
     },
     "execution_count": 2,
     "metadata": {},
     "output_type": "execute_result"
    }
   ],
   "source": [
    "points_df = new_dict['points']\n",
    "points_df_coilable = points_df[points_df['coilable'] == 'coilable']\n",
    "points_df_coilable"
   ]
  },
  {
   "cell_type": "code",
   "execution_count": 3,
   "metadata": {
    "colab": {
     "base_uri": "https://localhost:8080/",
     "height": 104
    },
    "colab_type": "code",
    "id": "p8omScWHD2aA",
    "outputId": "17259549-2de7-49d7-848e-9da77a0b98d1"
   },
   "outputs": [
    {
     "name": "stdout",
     "output_type": "stream",
     "text": [
      "Input variables for maximum critical buckling stress:       ratio_d  ratio_pitch  ratio_top_diameter  coilable  sigma_crit  energy\n",
      "981  0.071989     0.976318            0.477344  coilable   93.408673     NaN\n",
      "Input variables for maximum energy absorbtion:       ratio_d  ratio_pitch  ratio_top_diameter  coilable  sigma_crit    energy\n",
      "420  0.033783     0.320801            0.757812  coilable    6.735183  3.732142\n"
     ]
    }
   ],
   "source": [
    "sigma_crit_max_df = points_df_coilable[points_df_coilable['sigma_crit']==points_df_coilable['sigma_crit'].max()]\n",
    "energy_max_df = points_df_coilable[points_df_coilable['energy']==points_df_coilable['energy'].max()]\n",
    "print(\"Input variables for maximum critical buckling stress:\",sigma_crit_max_df)\n",
    "print(\"Input variables for maximum energy absorbtion:\",energy_max_df)"
   ]
  },
  {
   "cell_type": "code",
   "execution_count": null,
   "metadata": {},
   "outputs": [],
   "source": []
  }
 ],
 "metadata": {
  "colab": {
   "collapsed_sections": [],
   "name": "MachineLearning_Final1.4.ipynb",
   "provenance": []
  },
  "kernelspec": {
   "display_name": "Python 3",
   "language": "python",
   "name": "python3"
  },
  "language_info": {
   "codemirror_mode": {
    "name": "ipython",
    "version": 3
   },
   "file_extension": ".py",
   "mimetype": "text/x-python",
   "name": "python",
   "nbconvert_exporter": "python",
   "pygments_lexer": "ipython3",
   "version": "3.6.10"
  }
 },
 "nbformat": 4,
 "nbformat_minor": 1
}
