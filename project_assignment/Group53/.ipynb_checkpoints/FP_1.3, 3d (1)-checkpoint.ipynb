{
 "cells": [
  {
   "cell_type": "code",
   "execution_count": 20,
   "metadata": {},
   "outputs": [
    {
     "name": "stdout",
     "output_type": "stream",
     "text": [
      "      ratio_d  ratio_pitch  ratio_top_diameter               coilable  \\\n",
      "0    0.004000     0.250000            0.000000               coilable   \n",
      "1    0.038500     0.875000            0.400000           not coilable   \n",
      "2    0.055750     0.562500            0.200000  coilable (but yields)   \n",
      "3    0.021250     1.187500            0.600000           not coilable   \n",
      "4    0.029875     0.718750            0.500000               coilable   \n",
      "..        ...          ...                 ...                    ...   \n",
      "995  0.023474     0.917725            0.564844           not coilable   \n",
      "996  0.032099     0.448975            0.664844               coilable   \n",
      "997  0.066599     1.073975            0.264844  coilable (but yields)   \n",
      "998  0.049349     0.761475            0.464844  coilable (but yields)   \n",
      "999  0.014849     1.386475            0.064844           not coilable   \n",
      "\n",
      "     sigma_crit     energy  \n",
      "0      0.000494   0.000280  \n",
      "1           NaN        NaN  \n",
      "2     23.052002  14.285320  \n",
      "3      0.693775        NaN  \n",
      "4      2.887962        NaN  \n",
      "..          ...        ...  \n",
      "995         NaN        NaN  \n",
      "996    4.968690   2.928651  \n",
      "997   50.932128  31.343168  \n",
      "998   20.329816        NaN  \n",
      "999    0.095642        NaN  \n",
      "\n",
      "[1000 rows x 6 columns]\n"
     ]
    },
    {
     "data": {
      "image/png": "[encoded data removed]",
      "text/plain": [
       "<Figure size 432x288 with 1 Axes>"
      ]
     },
     "metadata": {
      "needs_background": "light"
     },
     "output_type": "display_data"
    },
    {
     "data": {
      "image/png": "[encoded data removed]",
      "text/plain": [
       "<Figure size 432x288 with 1 Axes>"
      ]
     },
     "metadata": {
      "needs_background": "light"
     },
     "output_type": "display_data"
    },
    {
     "name": "stdout",
     "output_type": "stream",
     "text": [
      "468\n"
     ]
    }
   ],
   "source": [
    "import pickle\n",
    "import pandas as pd\n",
    "import numpy as np\n",
    "import matplotlib.pyplot as plt\n",
    "\n",
    "df = pd.read_pickle('DoE_results_3d_1k.pkl')\n",
    "points_df = df['points']\n",
    "print(points_df)\n",
    "#coilable = points_df[4]\n",
    "points_df_1 = points_df[(points_df['sigma_crit'] >= 0) & (points_df['energy'] >= 0)]\n",
    "sigma_crit = points_df_1['sigma_crit']\n",
    "energy = points_df_1['energy']\n",
    "\n",
    "plt.figure(1)\n",
    "plt.hist(sigma_crit)\n",
    "plt.xlabel('Sigma_crit [Pa]')\n",
    "plt.ylabel('Frequency')\n",
    "plt.title('Histogram: Sigma_crit in 3D')\n",
    "plt.show()\n",
    "\n",
    "plt.figure(2)\n",
    "plt.hist(energy)\n",
    "plt.xlabel('Energy [J]')\n",
    "plt.ylabel('Frequency')\n",
    "plt.title('Histogram: Energy in 3D')\n",
    "plt.show()\n",
    "\n",
    "points_df_ratio = points_df[['ratio_d'  ,'ratio_pitch', 'ratio_top_diameter']]\n",
    "points_df\n",
    "coil = points_df[['coilable']]\n",
    "coil\n",
    "points_df_2 = points_df[(points_df['coilable'] == 'coilable (but yields)')]\n",
    "print(len(points_df_2))"
   ]
  },
  {
   "cell_type": "code",
   "execution_count": null,
   "metadata": {},
   "outputs": [],
   "source": []
  },
  {
   "cell_type": "code",
   "execution_count": null,
   "metadata": {},
   "outputs": [],
   "source": []
  }
 ],
 "metadata": {
  "kernelspec": {
   "display_name": "Python 3",
   "language": "python",
   "name": "python3"
  },
  "language_info": {
   "codemirror_mode": {
    "name": "ipython",
    "version": 3
   },
   "file_extension": ".py",
   "mimetype": "text/x-python",
   "name": "python",
   "nbconvert_exporter": "python",
   "pygments_lexer": "ipython3",
   "version": "3.6.10"
  }
 },
 "nbformat": 4,
 "nbformat_minor": 4
}
