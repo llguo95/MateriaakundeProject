{
 "cells": [
  {
   "cell_type": "markdown",
   "metadata": {},
   "source": [
    "# Supercompressible: optimization 3d\n",
    "\n",
    "This notebook intends to show the optimization process to maximize the absorbed energy in the 3D case. "
   ]
  },
  {
   "cell_type": "markdown",
   "metadata": {},
   "source": [
    "So, let's start by importing the required libraries:"
   ]
  },
  {
   "cell_type": "code",
   "execution_count": 1,
   "metadata": {},
   "outputs": [],
   "source": [
    "# standard library\n",
    "import pickle\n",
    "\n",
    "# third-party\n",
    "import pandas as pd\n",
    "import numpy as np\n",
    "from matplotlib import pyplot as plt\n",
    "from sklearn.preprocessing import StandardScaler\n",
    "from sklearn.gaussian_process import GaussianProcessRegressor\n",
    "from sklearn.metrics import mean_squared_error, r2_score, explained_variance_score\n",
    "from sklearn.gaussian_process.kernels import Matern\n",
    "from sklearn.metrics import accuracy_score, precision_score, recall_score, f1_score\n",
    "from sklearn.svm import SVC\n",
    "import scipy.optimize as so\n",
    "from matplotlib.colors import ListedColormap\n",
    "from GPyOpt.methods import BayesianOptimization\n",
    "from GPyOpt.util.general import reshape"
   ]
  },
  {
   "cell_type": "markdown",
   "metadata": {},
   "source": [
    "Now, let's import the data."
   ]
  },
  {
   "cell_type": "code",
   "execution_count": 2,
   "metadata": {},
   "outputs": [
    {
     "name": "stdout",
     "output_type": "stream",
     "text": [
      "variables: ['ratio_d', 'ratio_pitch', 'ratio_top_diameter', 'coilable', 'sigma_crit', 'energy']\n",
      "X: [[0.004      0.25       0.        ]\n",
      " [0.0385     0.875      0.4       ]\n",
      " [0.05575    0.5625     0.2       ]\n",
      " ...\n",
      " [0.06037836 1.08930969 0.58618164]\n",
      " [0.04312836 0.77680969 0.38618164]\n",
      " [0.00862836 1.40180969 0.78618164]]\n",
      "X shape: (10000, 3)\n",
      "y: [2.79529996e-04            nan 1.42853201e+01 ...            nan\n",
      "            nan            nan]\n",
      "y shape: (10000,)\n",
      "y_class: [1. 0. 2. ... 0. 2. 0.]\n",
      "y_class shape: (10000,)\n"
     ]
    }
   ],
   "source": [
    "# get pandas frame\n",
    "filename = 'DoE_results.pkl'\n",
    "with open(filename, 'rb') as file:\n",
    "    data = pickle.load(file)\n",
    "points = data['points']\n",
    "print('variables:', [col for col in points.columns])\n",
    "\n",
    "# get number of inputs\n",
    "n_inputs = len(points.columns) - 3\n",
    "\n",
    "# get X data\n",
    "X = points.iloc[:,range(n_inputs)].values\n",
    "X_full = points.iloc[:,range(n_inputs)].values\n",
    "\n",
    "# get energy data\n",
    "var_name = 'energy'\n",
    "y = points.loc[:, var_name].values\n",
    "\n",
    "# get coilable data\n",
    "class_name = 'coilable'\n",
    "y_class = points.loc[:, class_name].values\n",
    "\n",
    "print('X:', X)\n",
    "print('X shape:', np.shape(X))\n",
    "print('y:', y)\n",
    "print('y shape:', np.shape(y))\n",
    "print('y_class:', y_class)\n",
    "print('y_class shape:', np.shape(y_class))"
   ]
  },
  {
   "cell_type": "markdown",
   "metadata": {},
   "source": [
    "The variables ```X``` and ```y``` contain all the data. Nevertheless, there's ```NaN``` values that cannot be considered."
   ]
  },
  {
   "cell_type": "code",
   "execution_count": 3,
   "metadata": {},
   "outputs": [
    {
     "name": "stdout",
     "output_type": "stream",
     "text": [
      "Class 0: 3174\n",
      "Class 1: 2013\n",
      "Class 2: 4813\n"
     ]
    }
   ],
   "source": [
    "for yy in np.unique(y_class):\n",
    "    print('Class %i: %i' % (int(yy), np.sum(y_class==yy)))"
   ]
  },
  {
   "cell_type": "code",
   "execution_count": 4,
   "metadata": {},
   "outputs": [
    {
     "name": "stdout",
     "output_type": "stream",
     "text": [
      "X: [[0.004      0.25       0.        ]\n",
      " [0.05575    0.5625     0.2       ]\n",
      " [0.0686875  0.328125   0.55      ]\n",
      " ...\n",
      " [0.06900336 0.30805969 0.68618164]\n",
      " [0.03450336 0.93305969 0.28618164]\n",
      " [0.02587836 0.46430969 0.18618164]]\n",
      "X shape: (5264, 3)\n",
      "y: [2.79529996e-04 1.42853201e+01 3.99711660e+01 ... 5.35333775e+01\n",
      " 2.35352031e+00 6.15239445e-01]\n",
      "y shape: (5264,)\n",
      "y_class: [1. 0. 2. ... 0. 2. 0.]\n",
      "y_class shape: (10000,)\n"
     ]
    }
   ],
   "source": [
    "# missing indices\n",
    "indices = pd.notnull(points.loc[:, var_name]).values\n",
    "\n",
    "# get matching energy and coiling data\n",
    "y = points.loc[indices, var_name].values\n",
    "# y_class = points.loc[indices, class_name].values\n",
    "\n",
    "# get X data\n",
    "X = points.iloc[indices,range(n_inputs)].values\n",
    "\n",
    "print('X:', X)\n",
    "print('X shape:', np.shape(X))\n",
    "print('y:', y)\n",
    "print('y shape:', np.shape(y))\n",
    "print('y_class:', y_class)\n",
    "print('y_class shape:', np.shape(y_class))"
   ]
  },
  {
   "cell_type": "markdown",
   "metadata": {},
   "source": [
    "Methods to create and evaluate the regression and classification models."
   ]
  },
  {
   "cell_type": "code",
   "execution_count": 5,
   "metadata": {},
   "outputs": [],
   "source": [
    "def make_gp_regression(X_train, y_train, kernel):\n",
    "    \n",
    "    # train model\n",
    "    model = GaussianProcessRegressor(kernel=kernel, alpha=0.1**2, \n",
    "                                   n_restarts_optimizer=0)\n",
    "    model.fit(X_train, y_train)\n",
    "    \n",
    "    return model"
   ]
  },
  {
   "cell_type": "code",
   "execution_count": 6,
   "metadata": {},
   "outputs": [],
   "source": [
    "def split_data(X, y, train_size):\n",
    "    \n",
    "    # split data\n",
    "    test_size = 1 - train_size\n",
    "    indices = range(len(y))\n",
    "    X_train = X[indices[:-int(round(len(indices) * test_size))]]\n",
    "    X_test = X[indices[-int(round(len(indices) * test_size)):]]\n",
    "    y_train = y[indices[:-int(round(len(indices) * test_size))]]\n",
    "    y_test = y[indices[-int(round(len(indices) * test_size)):]]\n",
    "    \n",
    "    return (X_train, X_test, y_train, y_test)"
   ]
  },
  {
   "cell_type": "code",
   "execution_count": 7,
   "metadata": {},
   "outputs": [],
   "source": [
    "def evaluate_model(model, X_test, y_mean_test, n_train):\n",
    "    \n",
    "    # predict test\n",
    "    y_mean_pred = model.predict(X_test, return_std=False)\n",
    "\n",
    "    # error metrics\n",
    "    mse = mean_squared_error(y_mean_test, y_mean_pred)\n",
    "    r2 = r2_score(y_mean_test, y_mean_pred)\n",
    "    expl_var = explained_variance_score(y_mean_test, y_mean_pred)\n",
    "    print(\"The mean squared error is %0.3e\" % mse)\n",
    "    print(\"The R2 score is %0.3f\" % r2)\n",
    "    print(\"The explained variance score is %0.3f\" % expl_var)\n",
    "\n",
    "    # plot predicted vs observed\n",
    "    plt.figure()\n",
    "    plt.plot(y_mean_test, y_mean_pred, 'o')\n",
    "    plt.plot([np.min(y_mean_test), np.max(y_mean_test)], [np.min(y_mean_test), np.max(y_mean_test)], 'r-')\n",
    "    plt.title('Posterior kernel: %s\\n$n_{train} = %i$, $R^{2} = %0.3f$, $ MSE = %0.3e$' % (model.kernel_, n_train, r2, mse))\n",
    "    plt.ylabel(\"Predicted\")\n",
    "    plt.xlabel(\"Observed\")\n",
    "    plt.show()"
   ]
  },
  {
   "cell_type": "code",
   "execution_count": 8,
   "metadata": {},
   "outputs": [],
   "source": [
    "def evaluate_clf_model(clf, train_data, test_data, metrics=((accuracy_score, 'Accuracy classification score'),), print_results=True):\n",
    "    \n",
    "    # make predictions\n",
    "    y_train_predicted = clf.predict(train_data[0])\n",
    "    y_test_predicted = clf.predict(test_data[0])\n",
    "    \n",
    "    metric_results = []\n",
    "    for Imetric in range(np.shape(metrics)[0]):\n",
    "        metric = metrics[Imetric][0] # select metric used\n",
    "        metric_results.append([metric(train_data[1], y_train_predicted), metric(test_data[1], y_test_predicted)])\n",
    "        \n",
    "        if print_results:\n",
    "            print(\"Train\", metrics[Imetric][1],\"for ML model:\", metric_results[-1][0])\n",
    "            print(\"Test\", metrics[Imetric][1],\"for ML model:\", metric_results[-1][1])\n",
    "        \n",
    "    return metric_results"
   ]
  },
  {
   "cell_type": "markdown",
   "metadata": {},
   "source": [
    "Next, we will prepare the classification."
   ]
  },
  {
   "cell_type": "code",
   "execution_count": 9,
   "metadata": {},
   "outputs": [
    {
     "name": "stdout",
     "output_type": "stream",
     "text": [
      "Train Accuracy classification score for ML model: 0.89025\n",
      "Test Accuracy classification score for ML model: 0.8895\n"
     ]
    }
   ],
   "source": [
    "# choose train size\n",
    "train_size = .8\n",
    "(X_train, X_test, y_train, y_test) = split_data(X_full, y_class, train_size)\n",
    "n_train = len(X_train)\n",
    "\n",
    "# scale data\n",
    "scaler = StandardScaler().fit(X_train)\n",
    "X_train_scaled = scaler.transform(X_train)\n",
    "X_test_scaled = scaler.transform(X_test)\n",
    "\n",
    "# train\n",
    "clf = SVC(kernel='rbf').fit(X_train_scaled, y_train)\n",
    "\n",
    "# evaluate model\n",
    "evaluate_clf_model(clf, (X_train_scaled, y_train), (X_test_scaled, y_test));"
   ]
  },
  {
   "cell_type": "markdown",
   "metadata": {},
   "source": [
    "We can see that our classification is around 89% accurate."
   ]
  },
  {
   "cell_type": "markdown",
   "metadata": {},
   "source": [
    "Let's now clean the data to prepare it for the regression."
   ]
  },
  {
   "cell_type": "code",
   "execution_count": 10,
   "metadata": {},
   "outputs": [],
   "source": [
    "def perform_cleaning(X, y, n_std_cleaning):\n",
    "    \n",
    "    # compute threshold\n",
    "    y_mean, y_std = np.mean(y), np.std(y)\n",
    "    y_thresh = y_mean + n_std_cleaning * y_std\n",
    "\n",
    "    # indices\n",
    "    print(y_thresh)\n",
    "    indices = np.where(y < y_thresh)\n",
    "    n_dismissed_points = len(y) - len(indices[0])\n",
    "    print('Dismissed points:', n_dismissed_points)\n",
    "\n",
    "    # X and y\n",
    "    y = y[indices]\n",
    "    X = X[indices]\n",
    "    print(np.shape(y))\n",
    "    print(np.shape(X))\n",
    "\n",
    "    return X, y, n_dismissed_points"
   ]
  },
  {
   "cell_type": "code",
   "execution_count": 11,
   "metadata": {},
   "outputs": [
    {
     "name": "stdout",
     "output_type": "stream",
     "text": [
      "251.41209785647746\n",
      "Dismissed points: 6\n",
      "(5258,)\n",
      "(5258, 3)\n",
      "78.83845527943124\n",
      "Dismissed points: 7\n",
      "(5251,)\n",
      "(5251, 3)\n",
      "76.83459344264611\n",
      "Dismissed points: 0\n",
      "(5251,)\n",
      "(5251, 3)\n"
     ]
    }
   ],
   "source": [
    "n_std_cleaning = 5  # dismiss points that fall outside this range\n",
    "\n",
    "n_dismissed_points = 1\n",
    "\n",
    "y_dirty = y\n",
    "X_dirty = X\n",
    "\n",
    "while n_dismissed_points > 0:\n",
    "    X, y, n_dismissed_points = perform_cleaning(X, y, n_std_cleaning)"
   ]
  },
  {
   "cell_type": "markdown",
   "metadata": {},
   "source": [
    "We will now create a Gaussian Process regression model based on our data."
   ]
  },
  {
   "cell_type": "code",
   "execution_count": 12,
   "metadata": {},
   "outputs": [],
   "source": [
    "# choose train size\n",
    "train_size = .1\n",
    "(X_train, X_test, y_train, y_test) = split_data(X, y, train_size)\n",
    "n_train = len(X_train)\n",
    "\n",
    "# scale data\n",
    "X_train_scaled = scaler.transform(X_train)\n",
    "X_test_scaled = scaler.transform(X_test)\n",
    "\n",
    "# train and predict\n",
    "kernel = 1.0 * Matern(length_scale=1.0, nu=2.5, length_scale_bounds=(1e-1, 10.0))\n",
    "model = make_gp_regression(X_train_scaled, y_train, kernel)"
   ]
  },
  {
   "cell_type": "markdown",
   "metadata": {},
   "source": [
    "Now, _without_ using any optimization schemes, let us take a compare the maximizing input and maximized output.\n",
    "We will make a distinction between regressor-predicted inputs/outputs and data-contained inputs/outputs."
   ]
  },
  {
   "cell_type": "code",
   "execution_count": 13,
   "metadata": {},
   "outputs": [
    {
     "name": "stdout",
     "output_type": "stream",
     "text": [
      "Data-contained maximizing parameters = [0.03710181 0.26312256 0.77441406]\n",
      "Data-contained max. energy = [5.05723212]\n",
      "Predicted maximizing parameters = [0.01721545 0.44302368 0.56689453]\n",
      "Predicted max. energy = [6.37687343]\n"
     ]
    }
   ],
   "source": [
    "X_rev_coilable = np.delete(X_dirty, np.where(clf.predict(scaler.transform(X_dirty)) != 1), 0)\n",
    "Energy_rev_coilable_pred = np.delete(model.predict(scaler.transform(X_full)).reshape(-1, 1), np.where(clf.predict(scaler.transform(X_full)) != 1), 0)\n",
    "Energy_rev_coilable_data = np.delete(y_dirty.reshape(-1, 1), np.where(clf.predict(scaler.transform(X_dirty)) != 1), 0)\n",
    "\n",
    "maxX_data = X_rev_coilable[np.where(Energy_rev_coilable_data == max(Energy_rev_coilable_data))[0][0]]\n",
    "maxX_pred = X_rev_coilable[np.where(Energy_rev_coilable_pred == max(Energy_rev_coilable_pred))[0][0]]\n",
    "\n",
    "print(\"Data-contained maximizing parameters =\", maxX_data)\n",
    "print(\"Data-contained max. energy =\", max(Energy_rev_coilable_data))\n",
    "print(\"Predicted maximizing parameters =\", maxX_pred)\n",
    "print(\"Predicted max. energy =\", max(Energy_rev_coilable_pred))"
   ]
  },
  {
   "cell_type": "markdown",
   "metadata": {},
   "source": [
    "As expected, the GP regressor predicts a higher output value than the data contained within the dataset."
   ]
  },
  {
   "cell_type": "markdown",
   "metadata": {},
   "source": [
    "We now have our classification and regression models ready. We can use these functions to optimize for the absorbed energy while making sure that the coilability is favorable (class 1). We can do this by penalizing the other classes."
   ]
  },
  {
   "cell_type": "markdown",
   "metadata": {},
   "source": [
    "We will first use the `scipy.optimize` version of some common optimizers. To this end, let us define the objective function."
   ]
  },
  {
   "cell_type": "code",
   "execution_count": 14,
   "metadata": {},
   "outputs": [],
   "source": [
    "def objfun(x):\n",
    "#     print(x)\n",
    "    penalty = 1e5\n",
    "    x = [list(x)]\n",
    "    if np.rint(clf.predict(scaler.transform(x))) == 1:\n",
    "        return -model.predict(scaler.transform(x))\n",
    "    else:\n",
    "        return model.predict(scaler.transform(x)) + penalty"
   ]
  },
  {
   "cell_type": "markdown",
   "metadata": {},
   "source": [
    "Please note that - for simplicity - we are disregarding to check whether a new iteration point is contained with in the design space."
   ]
  },
  {
   "cell_type": "markdown",
   "metadata": {},
   "source": [
    "Next, let us pick the method that we will use. All available methods are documented on scipy."
   ]
  },
  {
   "cell_type": "code",
   "execution_count": 15,
   "metadata": {},
   "outputs": [],
   "source": [
    "optMethod = 'Nelder-Mead' # e.g. Nelder-Mead, L-BFGS-B, TNC, SLSQP..."
   ]
  },
  {
   "cell_type": "markdown",
   "metadata": {},
   "source": [
    "Let us create the boundaries of the design space."
   ]
  },
  {
   "cell_type": "code",
   "execution_count": 16,
   "metadata": {},
   "outputs": [],
   "source": [
    "variables = ['ratio_d', 'ratio_pitch', 'ratio_top_diameter']\n",
    "\n",
    "bds0 = np.array([data['doe_variables'][name] for name in variables]).T\n",
    "bds = so.Bounds(bds0[0], bds0[1])"
   ]
  },
  {
   "cell_type": "markdown",
   "metadata": {},
   "source": [
    "It is time to perform the actual optimization!"
   ]
  },
  {
   "cell_type": "code",
   "execution_count": 17,
   "metadata": {},
   "outputs": [
    {
     "name": "stdout",
     "output_type": "stream",
     "text": [
      "\n",
      "\n",
      "\n",
      "Nelder-Mead energy-optimizing parameters = [0.0492386  0.28517214 0.84939197]\n",
      "Nelder-Mead optimized energy = 21.87098975933573\n",
      "\n",
      "TNC energy-optimizing parameters = [0.04003067 0.41700032 0.8       ]\n",
      "TNC optimized energy = 9.9413732926241\n",
      "\n",
      "L-BFGS-B energy-optimizing parameters = [0.04  0.417 0.8  ]\n",
      "L-BFGS-B optimized energy = 9.909783354345215\n"
     ]
    }
   ],
   "source": [
    "x0 = [[0.04, 0.417, 0.8]] # Initial value which is found to be reversibly coilable\n",
    "\n",
    "optval_NM = so.minimize(fun=objfun, x0=x0, bounds=bds, method='Nelder-Mead', tol=1e-5, options={'return_all': True})\n",
    "print()\n",
    "optval_TNC = so.minimize(fun=objfun, x0=x0, bounds=bds, method='TNC', tol=1e-5)\n",
    "print()\n",
    "optval_LBFGSB = so.minimize(fun=objfun, x0=x0, bounds=bds, method='L-BFGS-B', tol=1e-5, options={'return_all': True})\n",
    "print()\n",
    "\n",
    "print('Nelder-Mead energy-optimizing parameters =', optval_NM.x)\n",
    "print('Nelder-Mead optimized energy =', -optval_NM.fun)\n",
    "print()\n",
    "print('TNC energy-optimizing parameters =', optval_TNC.x)\n",
    "print('TNC optimized energy =', -optval_TNC.fun[0])\n",
    "print()\n",
    "print('L-BFGS-B energy-optimizing parameters =', optval_LBFGSB.x)\n",
    "print('L-BFGS-B optimized energy =', -optval_LBFGSB.fun[0])"
   ]
  },
  {
   "cell_type": "markdown",
   "metadata": {},
   "source": [
    "Check whether the optimized input is classified as reversibly coilable or not:"
   ]
  },
  {
   "cell_type": "code",
   "execution_count": 18,
   "metadata": {},
   "outputs": [
    {
     "name": "stdout",
     "output_type": "stream",
     "text": [
      "[1.]\n",
      "[1.]\n",
      "[1.]\n"
     ]
    }
   ],
   "source": [
    "print(clf.predict(scaler.transform([list(optval_NM.x)])))\n",
    "print(clf.predict(scaler.transform([list(optval_TNC.x)])))\n",
    "print(clf.predict(scaler.transform([list(optval_LBFGSB.x)])))"
   ]
  },
  {
   "cell_type": "markdown",
   "metadata": {},
   "source": [
    "Next, we will use Bayesian optimization. Here we will also provide the progression of the optimization steps, as well as the convergence plots."
   ]
  },
  {
   "cell_type": "code",
   "execution_count": 19,
   "metadata": {},
   "outputs": [
    {
     "data": {
      "image/png": "[encoded data removed]",
      "text/plain": [
       "<Figure size 720x360 with 2 Axes>"
      ]
     },
     "metadata": {
      "needs_background": "light"
     },
     "output_type": "display_data"
    },
    {
     "data": {
      "image/png": "[encoded data removed]",
      "text/plain": [
       "<Figure size 720x360 with 2 Axes>"
      ]
     },
     "metadata": {
      "needs_background": "light"
     },
     "output_type": "display_data"
    },
    {
     "data": {
      "image/png": "[encoded data removed]",
      "text/plain": [
       "<Figure size 720x360 with 2 Axes>"
      ]
     },
     "metadata": {
      "needs_background": "light"
     },
     "output_type": "display_data"
    },
    {
     "name": "stdout",
     "output_type": "stream",
     "text": [
      "Progression of the approximated Expected Improvement function value:\n",
      "[-0.17231645 -0.17231645 -0.17231645 -0.17231645 -0.17231645 -0.39770158\n",
      " -4.11260653 -4.11260653 -4.11260653]\n",
      "\n",
      "Progression of the approximated Maximum Probability of Improvement function value:\n",
      "[ 1.00005538e+05  1.00000068e+05  1.00000068e+05  1.00000068e+05\n",
      "  1.00000068e+05  1.00000068e+05  1.00000068e+05  1.00000068e+05\n",
      "  1.00000059e+05  1.00000059e+05  1.00000059e+05 -6.75575338e+00\n",
      " -6.75575338e+00 -9.87662548e+00 -9.87662548e+00]\n",
      "\n",
      "Progression of the approximated Lower Confidence Bound function value:\n",
      "[ 1.00025279e+05  1.00000569e+05  1.00000569e+05  1.00000569e+05\n",
      "  1.00000569e+05  1.00000569e+05  1.00000569e+05  1.00000102e+05\n",
      "  1.00000102e+05  1.00000102e+05 -1.12476008e+00 -3.01587057e+00\n",
      " -3.01587057e+00 -4.20019344e+00 -4.20019344e+00]\n"
     ]
    }
   ],
   "source": [
    "class funcClass:\n",
    "    def __init__(self, input_dim):\n",
    "        self.input_dim = input_dim\n",
    "               \n",
    "    def f(self, X):\n",
    "        X = reshape(X, self.input_dim)\n",
    "        fval = objfun(X[0])\n",
    "                \n",
    "        function=fval               \n",
    "        return function\n",
    "\n",
    "func = funcClass(input_dim=3)\n",
    "f = func.f\n",
    "\n",
    "domain = [{'name': 'ratio_d', 'type': 'continuous', 'domain': (0.004, 0.073)},\n",
    "           {'name': 'ratio_pitch', 'type': 'continuous', 'domain': (0.25, 1.5)},\n",
    "           {'name': 'ratio_top_diameter', 'type': 'continuous', 'domain': (0.0, 0.8)}]\n",
    "\n",
    "# State the number of initial points and iterations\n",
    "numberOfInitialPoints = 5\n",
    "numberOfIterations = 10\n",
    "\n",
    "# Define the type of acquisition function (EI, MPI, or LCB) and plot the obtained acquisition function\n",
    "myBopt_EI = BayesianOptimization(f=f, acquisition_type='EI', domain=domain, normalize_Y=False, initial_design_numdata=numberOfInitialPoints)\n",
    "myBopt_EI.run_optimization(max_iter=numberOfIterations)\n",
    "myBopt_EI.plot_convergence() \n",
    "\n",
    "myBopt_MPI = BayesianOptimization(f=f, acquisition_type='MPI', domain=domain, normalize_Y=False, initial_design_numdata=numberOfInitialPoints)\n",
    "myBopt_MPI.run_optimization(max_iter=numberOfIterations)\n",
    "myBopt_MPI.plot_convergence()\n",
    "\n",
    "myBopt_LCB = BayesianOptimization(f=f, acquisition_type='LCB', domain=domain, normalize_Y=False, initial_design_numdata=numberOfInitialPoints)\n",
    "myBopt_LCB.run_optimization(max_iter=numberOfIterations)\n",
    "myBopt_LCB.plot_convergence()\n",
    "\n",
    "print(\"Progression of the approximated Expected Improvement function value:\")\n",
    "print(myBopt_EI.Y_best.reshape((len(myBopt_EI.Y_best))))\n",
    "print()\n",
    "print(\"Progression of the approximated Maximum Probability of Improvement function value:\")\n",
    "print(myBopt_MPI.Y_best.reshape((len(myBopt_MPI.Y_best))))\n",
    "print()\n",
    "print(\"Progression of the approximated Lower Confidence Bound function value:\")\n",
    "print(myBopt_LCB.Y_best.reshape((len(myBopt_LCB.Y_best))))"
   ]
  },
  {
   "cell_type": "markdown",
   "metadata": {},
   "source": [
    "We would now like to visualize the optimization behavior. To this end, we use the iteration points as visited by the Nelder-Mead algorithm."
   ]
  },
  {
   "cell_type": "code",
   "execution_count": 20,
   "metadata": {},
   "outputs": [],
   "source": [
    "# print(np.array(optval_NM.allvecs))"
   ]
  },
  {
   "cell_type": "code",
   "execution_count": 23,
   "metadata": {},
   "outputs": [],
   "source": [
    "colors = ['r', 'g', 'b']\n",
    "\n",
    "def make_clf_plot(scaler, clf, variables, x3, labels, feature_labels=('Not Coilable','Coilable', 'Coilable (but yields)')):\n",
    "\n",
    "    column_names = [col for col in points.columns]\n",
    "\n",
    "    indices =  [column_names.index(name) for name in variables]\n",
    "    bounds = [data['doe_variables'][name] for name in variables]\n",
    "\n",
    "    xx = np.meshgrid(np.arange(bounds[0][0], bounds[0][1], 0.005),\n",
    "                          np.arange(bounds[1][0], bounds[1][1], 0.005))\n",
    "\n",
    "    n = len(xx[0].ravel())\n",
    "    xx.append(x3 * np.ones(n))\n",
    "\n",
    "    XX = np.empty((n, 3))\n",
    "    for index, xx_ in zip(indices, xx):\n",
    "        XX[:, index] = xx_.ravel()\n",
    "\n",
    "    XX_scaled = scaler.transform(XX)\n",
    "\n",
    "    Y = clf.predict(XX_scaled)\n",
    "    Y = Y.reshape(xx[0].shape)\n",
    "    \n",
    "    n_features = len(feature_labels)\n",
    "    colors_ = colors[:n_features]\n",
    "    custom_cm = ListedColormap(colors_)\n",
    "    \n",
    "    # plot\n",
    "    fig, ax = plt.subplots()\n",
    "    ax.contourf(xx[0], xx[1], Y, cmap=custom_cm, alpha=0.5)\n",
    "    ax.set_xlabel(labels[0])\n",
    "    ax.set_ylabel(labels[1])\n",
    "    ax.set_title('%s = %.3g' % (labels[2], x3))"
   ]
  },
  {
   "cell_type": "code",
   "execution_count": 24,
   "metadata": {
    "scrolled": true
   },
   "outputs": [
    {
     "data": {
      "image/png": "[encoded data removed]",
      "text/plain": [
       "<Figure size 432x288 with 1 Axes>"
      ]
     },
     "metadata": {
      "needs_background": "light"
     },
     "output_type": "display_data"
    },
    {
     "data": {
      "image/png": "[encoded data removed]",
      "text/plain": [
       "<Figure size 432x288 with 1 Axes>"
      ]
     },
     "metadata": {
      "needs_background": "light"
     },
     "output_type": "display_data"
    },
    {
     "data": {
      "image/png": "[encoded data removed]",
      "text/plain": [
       "<Figure size 432x288 with 1 Axes>"
      ]
     },
     "metadata": {
      "needs_background": "light"
     },
     "output_type": "display_data"
    },
    {
     "data": {
      "image/png": "[encoded data removed]",
      "text/plain": [
       "<Figure size 432x288 with 1 Axes>"
      ]
     },
     "metadata": {
      "needs_background": "light"
     },
     "output_type": "display_data"
    }
   ],
   "source": [
    "plot_variables = ['ratio_pitch', 'ratio_d', 'ratio_top_diameter']\n",
    "plot_labels = ['$\\\\frac{P}{D}$', '$\\\\frac{d}{D_1}$', '$\\\\frac{D_1 - D_2}{D_1}$']\n",
    "for x3 in [0., 0.25, 0.5, 0.75]:\n",
    "    make_clf_plot(scaler, clf, plot_variables, x3, plot_labels)"
   ]
  },
  {
   "cell_type": "code",
   "execution_count": null,
   "metadata": {},
   "outputs": [],
   "source": []
  }
 ],
 "metadata": {
  "kernelspec": {
   "display_name": "Python 3",
   "language": "python",
   "name": "python3"
  },
  "language_info": {
   "codemirror_mode": {
    "name": "ipython",
    "version": 3
   },
   "file_extension": ".py",
   "mimetype": "text/x-python",
   "name": "python",
   "nbconvert_exporter": "python",
   "pygments_lexer": "ipython3",
   "version": "3.7.0"
  }
 },
 "nbformat": 4,
 "nbformat_minor": 4
}
